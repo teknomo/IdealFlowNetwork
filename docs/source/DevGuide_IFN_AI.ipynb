{
 "cells": [
  {
   "cell_type": "markdown",
   "metadata": {},
   "source": [
    "# IFN for Data Science, Machine Learning and Artificial Intelligence\n",
    "\n",
    "by [*Kardi Teknomo*](https://people.revoledu.com/kardi/)"
   ]
  },
  {
   "cell_type": "markdown",
   "metadata": {},
   "source": [
    "In this tutorial, we will develop an appication of IFN for field of Data Science, Machine Learning, and Artificial Intelligence by classifying data in a data table."
   ]
  }
 ],
 "metadata": {
  "language_info": {
   "name": "python"
  }
 },
 "nbformat": 4,
 "nbformat_minor": 2
}
