{
 "cells": [
  {
   "cell_type": "markdown",
   "metadata": {},
   "source": [
    "# Ideal Flow Network (IFN) - Beginner's Guide\n",
    "\n",
    "by *Kardi Teknomo*\n",
    "\n",
    "\n",
    "## How To Install:\n",
    "\n",
    "You need to have Python installed. \n",
    "\n",
    "> pip install IdealFlowNetwork\n",
    "\n",
    "Alternatively, download the code from https://github.com/teknomo/IdealFlowNetwork, unzip the file in a folder.\n",
    "\n",
    "> cd *your_folder_name*`/pkg`\n",
    "\n",
    "> pip install . \n"
   ]
  },
  {
   "cell_type": "markdown",
   "metadata": {},
   "source": [
    "# Using IFN\n",
    "\n",
    "To use Ideal Flow Network module, you just need to import it."
   ]
  },
  {
   "cell_type": "code",
   "execution_count": 1,
   "metadata": {},
   "outputs": [
    {
     "ename": "ModuleNotFoundError",
     "evalue": "No module named 'IdealFlow'",
     "output_type": "error",
     "traceback": [
      "\u001b[1;31m---------------------------------------------------------------------------\u001b[0m",
      "\u001b[1;31mModuleNotFoundError\u001b[0m                       Traceback (most recent call last)",
      "\u001b[1;32m<ipython-input-1-5cc9e871dba5>\u001b[0m in \u001b[0;36m<module>\u001b[1;34m\u001b[0m\n\u001b[1;32m----> 1\u001b[1;33m \u001b[1;32mfrom\u001b[0m \u001b[0mIdealFlow\u001b[0m \u001b[1;32mimport\u001b[0m \u001b[0mNetwork\u001b[0m \u001b[1;32mas\u001b[0m \u001b[0mnet\u001b[0m  \u001b[1;31m# from package import module as alias\u001b[0m\u001b[1;33m\u001b[0m\u001b[1;33m\u001b[0m\u001b[0m\n\u001b[0m",
      "\u001b[1;31mModuleNotFoundError\u001b[0m: No module named 'IdealFlow'"
     ]
    }
   ],
   "source": [
    "from IdealFlow import Network as net  # from package import module as alias"
   ]
  },
  {
   "cell_type": "markdown",
   "metadata": {},
   "source": [
    "The Network module contains IFN class. Let us call the IFN class and display the version."
   ]
  },
  {
   "cell_type": "code",
   "execution_count": null,
   "metadata": {},
   "outputs": [],
   "source": [
    "n = net.IFN()\n",
    "print('IFN version:', n.version)"
   ]
  },
  {
   "cell_type": "markdown",
   "metadata": {},
   "source": [
    "If you set the name of the network, you can call it's name as its formal *representation*."
   ]
  },
  {
   "cell_type": "code",
   "execution_count": null,
   "metadata": {},
   "outputs": [],
   "source": [
    "n = net.IFN(\"My First Network\")\n",
    "n"
   ]
  },
  {
   "cell_type": "markdown",
   "metadata": {},
   "source": [
    "However, printing it would produce the adjacency list. Since we did not yet define any link or node, it is just an empty adjacency list."
   ]
  },
  {
   "cell_type": "code",
   "execution_count": null,
   "metadata": {},
   "outputs": [],
   "source": [
    "print(n)"
   ]
  },
  {
   "cell_type": "markdown",
   "metadata": {},
   "source": [
    "In IFN, a network is expanded by adding links. When you add a link, the nodes is automatically added.\n",
    "\n",
    "You can add a link by specifying the `start_node` and `end_node` and optionally, you can specify the link `weight`, which is caled *`flow`*. If you do not specify the link flow, by default, the flow is equal to one.\n",
    "\n",
    "When a link does not exist, `add_link(start_node,end_node,[flow])` would create that link. When the link already exists, would only update by adding the flow.\n",
    "\n",
    "Printing the string of network instant, would give you the adjacency list of the network. \n",
    "\n",
    "In the example below, node *b* is a sink node, therefore it has empty *end_node*  "
   ]
  },
  {
   "cell_type": "code",
   "execution_count": null,
   "metadata": {},
   "outputs": [],
   "source": [
    "n.add_link('a','b',3)\n",
    "print(n)\n",
    "n.show();"
   ]
  },
  {
   "cell_type": "markdown",
   "metadata": {},
   "source": [
    "You don't need to add node first when you add a link. Method `add_node(node_id)` would \n",
    "add a new node to the network if that node does not exist. This method is useful for adding an isolated node."
   ]
  },
  {
   "cell_type": "code",
   "execution_count": null,
   "metadata": {},
   "outputs": [],
   "source": [
    "n.add_node('c')  # add an isolated node 'd'\n",
    "print(n)\n",
    "n.show();"
   ]
  },
  {
   "cell_type": "markdown",
   "metadata": {},
   "source": [
    "Letus now add link *ac*"
   ]
  },
  {
   "cell_type": "code",
   "execution_count": null,
   "metadata": {},
   "outputs": [],
   "source": [
    "n.add_link('a','c')\n",
    "print(n)\n",
    "n.show();"
   ]
  },
  {
   "cell_type": "markdown",
   "metadata": {},
   "source": [
    "Adding a link on the existing link will only update the link flow."
   ]
  },
  {
   "cell_type": "code",
   "execution_count": null,
   "metadata": {},
   "outputs": [],
   "source": [
    "\n",
    "n.add_link('a','c')\n",
    "print(n)\n",
    "n.show();"
   ]
  },
  {
   "cell_type": "markdown",
   "metadata": {},
   "source": [
    "len of the netwok would show the number of nodes."
   ]
  },
  {
   "cell_type": "code",
   "execution_count": null,
   "metadata": {},
   "outputs": [],
   "source": [
    "len(n)"
   ]
  },
  {
   "cell_type": "markdown",
   "metadata": {},
   "source": [
    "We can view the link flow by getting the link item."
   ]
  },
  {
   "cell_type": "code",
   "execution_count": null,
   "metadata": {},
   "outputs": [],
   "source": [
    "n[('a','b')]"
   ]
  },
  {
   "cell_type": "markdown",
   "metadata": {},
   "source": [
    "We can also set the link flow directly by replacing its value."
   ]
  },
  {
   "cell_type": "code",
   "execution_count": null,
   "metadata": {},
   "outputs": [],
   "source": [
    "n[('a','b')]=8\n",
    "print(n)\n",
    "n.show();"
   ]
  },
  {
   "cell_type": "markdown",
   "metadata": {},
   "source": [
    "The nodes in the network (which is the keys in adjacency list) forms an iterator that can be called in a loop."
   ]
  },
  {
   "cell_type": "code",
   "execution_count": null,
   "metadata": {},
   "outputs": [],
   "source": [
    "n.add_link('b','c')\n",
    "for node in n:\n",
    "    print(node)"
   ]
  },
  {
   "cell_type": "markdown",
   "metadata": {},
   "source": [
    "## Basic Data Structure of IFN\n",
    "\n",
    "The basic data structure of the network is adjacency list.\n",
    "We can replace the entire data inside the network by `set_data(adjList)`.\n",
    "Property `get_data` would return the internal data structure of adjacency list."
   ]
  },
  {
   "cell_type": "code",
   "execution_count": null,
   "metadata": {},
   "outputs": [],
   "source": [
    "adjList = {'a': {'b': 1, 'c': 3}, 'b': {'c':2}, 'c': {'a':5}}\n",
    "n.set_data = adjList\n",
    "n.get_data"
   ]
  }
 ],
 "metadata": {
  "kernelspec": {
   "display_name": "Python 3",
   "language": "python",
   "name": "python3"
  },
  "language_info": {
   "codemirror_mode": {
    "name": "ipython",
    "version": 3
   },
   "file_extension": ".py",
   "mimetype": "text/x-python",
   "name": "python",
   "nbconvert_exporter": "python",
   "pygments_lexer": "ipython3",
   "version": "3.8.5"
  },
  "varInspector": {
   "cols": {
    "lenName": 16,
    "lenType": 16,
    "lenVar": 40
   },
   "kernels_config": {
    "python": {
     "delete_cmd_postfix": "",
     "delete_cmd_prefix": "del ",
     "library": "var_list.py",
     "varRefreshCmd": "print(var_dic_list())"
    },
    "r": {
     "delete_cmd_postfix": ") ",
     "delete_cmd_prefix": "rm(",
     "library": "var_list.r",
     "varRefreshCmd": "cat(var_dic_list()) "
    }
   },
   "types_to_exclude": [
    "module",
    "function",
    "builtin_function_or_method",
    "instance",
    "_Feature"
   ],
   "window_display": false
  }
 },
 "nbformat": 4,
 "nbformat_minor": 2
}
