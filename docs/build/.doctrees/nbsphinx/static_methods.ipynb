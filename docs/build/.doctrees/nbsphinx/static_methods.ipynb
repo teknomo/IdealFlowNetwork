{
 "cells": [
  {
   "cell_type": "markdown",
   "metadata": {},
   "source": [
    "# Methods in IFN\n"
   ]
  },
  {
   "cell_type": "markdown",
   "metadata": {},
   "source": [
    "## Static Methods\n",
    "\n",
    "Static methods are generic functions that does not require and does not modify the internal data structure of the class. They can be used as ordinary functions with input parameters to produce the output.\n",
    "\n",
    "### Static Metods for Network Indicators\n",
    "### Static Methods for Network Testings\n",
    "### Static Methods for Matrix Conversions"
   ]
  }
 ],
 "metadata": {
  "kernelspec": {
   "display_name": "Python 3",
   "language": "python",
   "name": "python3"
  },
  "language_info": {
   "codemirror_mode": {
    "name": "ipython",
    "version": 3
   },
   "file_extension": ".py",
   "mimetype": "text/x-python",
   "name": "python",
   "nbconvert_exporter": "python",
   "pygments_lexer": "ipython3",
   "version": "3.9.13"
  }
 },
 "nbformat": 4,
 "nbformat_minor": 2
}
